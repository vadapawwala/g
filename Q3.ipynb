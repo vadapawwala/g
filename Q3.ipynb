{
 "cells": [
  {
   "cell_type": "code",
   "execution_count": null,
   "id": "af80aea2",
   "metadata": {},
   "outputs": [
    {
     "name": "stdout",
     "output_type": "stream",
     "text": [
      " * Serving Flask app \"__main__\" (lazy loading)\n",
      " * Environment: production\n",
      "\u001b[31m   WARNING: This is a development server. Do not use it in a production deployment.\u001b[0m\n",
      "\u001b[2m   Use a production WSGI server instead.\u001b[0m\n",
      " * Debug mode: off\n"
     ]
    },
    {
     "name": "stderr",
     "output_type": "stream",
     "text": [
      " * Running on http://127.0.0.1:5009/ (Press CTRL+C to quit)\n",
      "127.0.0.1 - - [18/Sep/2024 17:10:21] \"GET / HTTP/1.1\" 200 -\n",
      "127.0.0.1 - - [18/Sep/2024 17:10:29] \"POST / HTTP/1.1\" 200 -\n",
      "127.0.0.1 - - [18/Sep/2024 17:10:43] \"POST / HTTP/1.1\" 200 -\n"
     ]
    }
   ],
   "source": [
    "from flask import Flask, render_template, request\n",
    "\n",
    "app = Flask(__name__)\n",
    "\n",
    "customer_list = []\n",
    "\n",
    "@app.route('/', methods=['GET', 'POST'])\n",
    "def index():\n",
    "    global customer_list\n",
    "    if request.method == 'POST':\n",
    "        cust_name = request.form['CustName']\n",
    "        email = request.form['email']\n",
    "        mob_no = request.form['MobNo']\n",
    "        address = request.form['address']\n",
    "        pincode = request.form['pincode']\n",
    "\n",
    "        # Store customer details in a dictionary\n",
    "        customer_details = {\n",
    "            'CustName': cust_name,\n",
    "            'Email': email,\n",
    "            'MobNo': mob_no,\n",
    "            'Address': address,\n",
    "            'Pincode': pincode\n",
    "        }\n",
    "        customer_list.append(customer_details)\n",
    "\n",
    "    return render_template('index.html', customer_list=customer_list)\n",
    "\n",
    "if __name__ == '__main__':\n",
    "    app.run(port=5009)\n"
   ]
  },
  {
   "cell_type": "code",
   "execution_count": null,
   "id": "e9f96918",
   "metadata": {},
   "outputs": [],
   "source": []
  }
 ],
 "metadata": {
  "kernelspec": {
   "display_name": "Python 3 (ipykernel)",
   "language": "python",
   "name": "python3"
  },
  "language_info": {
   "codemirror_mode": {
    "name": "ipython",
    "version": 3
   },
   "file_extension": ".py",
   "mimetype": "text/x-python",
   "name": "python",
   "nbconvert_exporter": "python",
   "pygments_lexer": "ipython3",
   "version": "3.9.12"
  }
 },
 "nbformat": 4,
 "nbformat_minor": 5
}
