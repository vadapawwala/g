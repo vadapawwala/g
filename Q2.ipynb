{
 "cells": [
  {
   "cell_type": "code",
   "execution_count": null,
   "id": "cb01cdee",
   "metadata": {},
   "outputs": [
    {
     "name": "stdout",
     "output_type": "stream",
     "text": [
      " * Serving Flask app \"__main__\" (lazy loading)\n",
      " * Environment: production\n",
      "\u001b[31m   WARNING: This is a development server. Do not use it in a production deployment.\u001b[0m\n",
      "\u001b[2m   Use a production WSGI server instead.\u001b[0m\n",
      " * Debug mode: off\n"
     ]
    },
    {
     "name": "stderr",
     "output_type": "stream",
     "text": [
      " * Running on http://127.0.0.1:5000/ (Press CTRL+C to quit)\n",
      "127.0.0.1 - - [18/Sep/2024 16:27:30] \"GET / HTTP/1.1\" 404 -\n",
      "127.0.0.1 - - [18/Sep/2024 16:27:31] \"GET /favicon.ico HTTP/1.1\" 404 -\n",
      "127.0.0.1 - - [18/Sep/2024 16:27:38] \"GET /hello/tanazza HTTP/1.1\" 200 -\n",
      "127.0.0.1 - - [18/Sep/2024 17:08:05] \"GET / HTTP/1.1\" 404 -\n",
      "127.0.0.1 - - [18/Sep/2024 17:08:05] \"GET /favicon.ico HTTP/1.1\" 404 -\n"
     ]
    }
   ],
   "source": [
    "from flask import Flask\n",
    "app = Flask(__name__)\n",
    "# Pass the required route to the decorator.\n",
    "@app.route(\"/hello/<name>\")\n",
    "def hello_name(name):\n",
    "    return 'Hello %s!' % name\n",
    "\n",
    "if __name__ == \"__main__\":\n",
    "    app.run()\n",
    "    app.close"
   ]
  },
  {
   "cell_type": "code",
   "execution_count": null,
   "id": "2f9097ee",
   "metadata": {},
   "outputs": [],
   "source": []
  }
 ],
 "metadata": {
  "kernelspec": {
   "display_name": "Python 3 (ipykernel)",
   "language": "python",
   "name": "python3"
  },
  "language_info": {
   "codemirror_mode": {
    "name": "ipython",
    "version": 3
   },
   "file_extension": ".py",
   "mimetype": "text/x-python",
   "name": "python",
   "nbconvert_exporter": "python",
   "pygments_lexer": "ipython3",
   "version": "3.9.12"
  }
 },
 "nbformat": 4,
 "nbformat_minor": 5
}
